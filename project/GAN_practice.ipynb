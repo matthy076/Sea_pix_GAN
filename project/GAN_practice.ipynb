{
 "cells": [
  {
   "cell_type": "code",
   "execution_count": 2,
   "id": "3f70594f-ec56-4566-99eb-8f70e7fe78d9",
   "metadata": {},
   "outputs": [],
   "source": [
    "import torch\n",
    "from torch import nn\n",
    "\n",
    "import math\n",
    "import matplotlib.pyplot as plt\n",
    "import torchvision\n",
    "import torchvision.transforms as transforms"
   ]
  },
  {
   "cell_type": "code",
   "execution_count": 3,
   "id": "40884abd-8e89-4c68-b846-285b8afe1f5b",
   "metadata": {},
   "outputs": [],
   "source": [
    "train_data_length = 1024\n",
    "train_data = torch.zeros((train_data_length, 2))\n",
    "train_data[:, 0] = 2 * math.pi * torch.rand(train_data_length)\n",
    "train_data[:, 1] = torch.sin(train_data[:, 0])\n",
    "train_labels = torch.zeros(train_data_length)\n",
    "train_set = [\n",
    "    (train_data[i], train_labels[i]) for i in range(train_data_length)\n",
    "]"
   ]
  },
  {
   "cell_type": "code",
   "execution_count": 4,
   "id": "ee8c00cf-eebc-4c7c-b155-864ad9a87c9d",
   "metadata": {},
   "outputs": [
    {
     "data": {
      "text/plain": [
       "[<matplotlib.lines.Line2D at 0x1d46c4c3cd0>]"
      ]
     },
     "execution_count": 4,
     "metadata": {},
     "output_type": "execute_result"
    },
    {
     "data": {
      "image/png": "[encoded data removed]",
      "text/plain": [
       "<Figure size 432x288 with 1 Axes>"
      ]
     },
     "metadata": {},
     "output_type": "display_data"
    }
   ],
   "source": [
    "plt.plot(train_data[:, 0], train_data[:, 1], \".\")"
   ]
  },
  {
   "cell_type": "code",
   "execution_count": 5,
   "id": "7a3c9f14-26ec-4cb4-b5f1-5ec0c2eb46d3",
   "metadata": {},
   "outputs": [],
   "source": [
    "batch_size = 32\n",
    "train_loader = torch.utils.data.DataLoader(\n",
    "    train_set, batch_size=batch_size, shuffle=True\n",
    ")"
   ]
  },
  {
   "cell_type": "code",
   "execution_count": 6,
   "id": "5baba502-3735-40b5-b590-3a57488d522b",
   "metadata": {},
   "outputs": [
    {
     "data": {
      "text/plain": [
       "<torch.utils.data.dataloader.DataLoader at 0x1d46d528d10>"
      ]
     },
     "execution_count": 6,
     "metadata": {},
     "output_type": "execute_result"
    }
   ],
   "source": [
    "train_loader"
   ]
  },
  {
   "cell_type": "code",
   "execution_count": 7,
   "id": "483de3fd-acb9-454a-9d0e-e80d0efce9d2",
   "metadata": {},
   "outputs": [],
   "source": [
    "class Discriminator(nn.Module):\n",
    "    def __init__(self):\n",
    "        super().__init__()\n",
    "        self.model = nn.Sequential(\n",
    "            nn.Linear(2, 256),\n",
    "            nn.ReLU(),\n",
    "            nn.Dropout(0.3),\n",
    "            nn.Linear(256, 128),\n",
    "            nn.ReLU(),\n",
    "            nn.Dropout(0.3),\n",
    "            nn.Linear(128, 64),\n",
    "            nn.ReLU(),\n",
    "            nn.Dropout(0.3),\n",
    "            nn.Linear(64, 1),\n",
    "            nn.Sigmoid(),\n",
    "        )\n",
    "\n",
    "    def forward(self, x):\n",
    "        output = self.model(x)\n",
    "        return output"
   ]
  },
  {
   "cell_type": "code",
   "execution_count": 9,
   "id": "9065bfa1-ac2a-4d8f-a3ba-970167b5a427",
   "metadata": {},
   "outputs": [],
   "source": [
    "discriminator = Discriminator()"
   ]
  },
  {
   "cell_type": "code",
   "execution_count": 10,
   "id": "11da8ff8-c292-434f-a5da-6b41699d3cbc",
   "metadata": {},
   "outputs": [],
   "source": [
    "class Generator(nn.Module):\n",
    "    def __init__(self):\n",
    "        super().__init__()\n",
    "        self.model = nn.Sequential(\n",
    "            nn.Linear(2, 16),\n",
    "            nn.ReLU(),\n",
    "            nn.Linear(16, 32),\n",
    "            nn.ReLU(),\n",
    "            nn.Linear(32, 2),\n",
    "        )\n",
    "\n",
    "    def forward(self, x):\n",
    "        output = self.model(x)\n",
    "        return output\n",
    "\n",
    "generator = Generator()"
   ]
  },
  {
   "cell_type": "code",
   "execution_count": 11,
   "id": "38660158-ceef-4bd5-920b-e34858b58fce",
   "metadata": {},
   "outputs": [],
   "source": [
    "lr = 0.001\n",
    "num_epochs = 300\n",
    "loss_function = nn.BCELoss()"
   ]
  },
  {
   "cell_type": "code",
   "execution_count": 12,
   "id": "04f54be4-0280-48f7-90b1-5f8b84d9a18e",
   "metadata": {},
   "outputs": [],
   "source": [
    "optimizer_discriminator = torch.optim.Adam(discriminator.parameters(), lr=lr)\n",
    "optimizer_generator = torch.optim.Adam(generator.parameters(), lr=lr)"
   ]
  },
  {
   "cell_type": "code",
   "execution_count": 13,
   "id": "cffe1078-5027-4edb-a0fb-84501ae00d45",
   "metadata": {},
   "outputs": [
    {
     "name": "stdout",
     "output_type": "stream",
     "text": [
      "Epoch: 0 Loss D.: 0.18052265048027039\n",
      "Epoch: 0 Loss G.: 2.3107433319091797\n",
      "Epoch: 10 Loss D.: 0.6440457105636597\n",
      "Epoch: 10 Loss G.: 0.8282073140144348\n",
      "Epoch: 20 Loss D.: 0.7046388983726501\n",
      "Epoch: 20 Loss G.: 0.7686710357666016\n",
      "Epoch: 30 Loss D.: 0.6542993783950806\n",
      "Epoch: 30 Loss G.: 0.8756380081176758\n",
      "Epoch: 40 Loss D.: 0.700262725353241\n",
      "Epoch: 40 Loss G.: 0.6147027611732483\n",
      "Epoch: 50 Loss D.: 0.6795195937156677\n",
      "Epoch: 50 Loss G.: 0.7904295921325684\n",
      "Epoch: 60 Loss D.: 0.6925634145736694\n",
      "Epoch: 60 Loss G.: 0.6015966534614563\n",
      "Epoch: 70 Loss D.: 0.6805325746536255\n",
      "Epoch: 70 Loss G.: 0.7430950403213501\n",
      "Epoch: 80 Loss D.: 0.6885093450546265\n",
      "Epoch: 80 Loss G.: 0.6716797947883606\n",
      "Epoch: 90 Loss D.: 0.7741314172744751\n",
      "Epoch: 90 Loss G.: 0.6321229338645935\n",
      "Epoch: 100 Loss D.: 0.6727098822593689\n",
      "Epoch: 100 Loss G.: 0.6413571834564209\n",
      "Epoch: 110 Loss D.: 0.6382531523704529\n",
      "Epoch: 110 Loss G.: 0.779313325881958\n",
      "Epoch: 120 Loss D.: 0.6853185296058655\n",
      "Epoch: 120 Loss G.: 0.6818192005157471\n",
      "Epoch: 130 Loss D.: 0.6632577776908875\n",
      "Epoch: 130 Loss G.: 0.7067630887031555\n",
      "Epoch: 140 Loss D.: 0.6966402530670166\n",
      "Epoch: 140 Loss G.: 0.7409928441047668\n",
      "Epoch: 150 Loss D.: 0.68392014503479\n",
      "Epoch: 150 Loss G.: 0.7315683364868164\n",
      "Epoch: 160 Loss D.: 0.7063712477684021\n",
      "Epoch: 160 Loss G.: 0.7077789306640625\n",
      "Epoch: 170 Loss D.: 0.6800512075424194\n",
      "Epoch: 170 Loss G.: 0.7897530794143677\n",
      "Epoch: 180 Loss D.: 0.7003535032272339\n",
      "Epoch: 180 Loss G.: 0.7389036417007446\n",
      "Epoch: 190 Loss D.: 0.6701983213424683\n",
      "Epoch: 190 Loss G.: 0.686461865901947\n",
      "Epoch: 200 Loss D.: 0.7369572520256042\n",
      "Epoch: 200 Loss G.: 0.6895814538002014\n",
      "Epoch: 210 Loss D.: 0.6578919887542725\n",
      "Epoch: 210 Loss G.: 0.724598228931427\n",
      "Epoch: 220 Loss D.: 0.7012289762496948\n",
      "Epoch: 220 Loss G.: 0.7147697806358337\n",
      "Epoch: 230 Loss D.: 0.7405657768249512\n",
      "Epoch: 230 Loss G.: 0.7051615118980408\n",
      "Epoch: 240 Loss D.: 0.7129252552986145\n",
      "Epoch: 240 Loss G.: 0.7132941484451294\n",
      "Epoch: 250 Loss D.: 0.6783770322799683\n",
      "Epoch: 250 Loss G.: 0.7251908183097839\n",
      "Epoch: 260 Loss D.: 0.6107662320137024\n",
      "Epoch: 260 Loss G.: 0.8827901482582092\n",
      "Epoch: 270 Loss D.: 0.8063873052597046\n",
      "Epoch: 270 Loss G.: 0.7163657546043396\n",
      "Epoch: 280 Loss D.: 0.6734704375267029\n",
      "Epoch: 280 Loss G.: 0.7059530019760132\n",
      "Epoch: 290 Loss D.: 0.7177636623382568\n",
      "Epoch: 290 Loss G.: 0.6755779385566711\n"
     ]
    }
   ],
   "source": [
    "for epoch in range(num_epochs):\n",
    "    for n, (real_samples, _) in enumerate(train_loader):\n",
    "        # Data for training the discriminator\n",
    "        real_samples_labels = torch.ones((batch_size, 1))\n",
    "        latent_space_samples = torch.randn((batch_size, 2))\n",
    "        generated_samples = generator(latent_space_samples)\n",
    "        generated_samples_labels = torch.zeros((batch_size, 1))\n",
    "        all_samples = torch.cat((real_samples, generated_samples))\n",
    "        all_samples_labels = torch.cat(\n",
    "            (real_samples_labels, generated_samples_labels)\n",
    "        )\n",
    "\n",
    "        # Training the discriminator\n",
    "        discriminator.zero_grad()\n",
    "        output_discriminator = discriminator(all_samples)\n",
    "        loss_discriminator = loss_function(\n",
    "            output_discriminator, all_samples_labels)\n",
    "        loss_discriminator.backward()\n",
    "        optimizer_discriminator.step()\n",
    "\n",
    "        # Data for training the generator\n",
    "        latent_space_samples = torch.randn((batch_size, 2))\n",
    "\n",
    "        # Training the generator\n",
    "        generator.zero_grad()\n",
    "        generated_samples = generator(latent_space_samples)\n",
    "        output_discriminator_generated = discriminator(generated_samples)\n",
    "        loss_generator = loss_function(\n",
    "            output_discriminator_generated, real_samples_labels\n",
    "        )\n",
    "        loss_generator.backward()\n",
    "        optimizer_generator.step()\n",
    "\n",
    "        # Show loss\n",
    "        if epoch % 10 == 0 and n == batch_size - 1:\n",
    "            print(f\"Epoch: {epoch} Loss D.: {loss_discriminator}\")\n",
    "            print(f\"Epoch: {epoch} Loss G.: {loss_generator}\")"
   ]
  },
  {
   "cell_type": "code",
   "execution_count": 14,
   "id": "20e43a8d-b170-40a5-b221-e61f62801f6b",
   "metadata": {},
   "outputs": [],
   "source": [
    "latent_space_samples = torch.randn(100, 2)\n",
    "generated_samples = generator(latent_space_samples)"
   ]
  },
  {
   "cell_type": "code",
   "execution_count": 15,
   "id": "9f772771-0132-4574-a0fc-9725b552e29d",
   "metadata": {},
   "outputs": [
    {
     "data": {
      "text/plain": [
       "[<matplotlib.lines.Line2D at 0x1d46d5a3ed0>]"
      ]
     },
     "execution_count": 15,
     "metadata": {},
     "output_type": "execute_result"
    },
    {
     "data": {
      "image/png": "[encoded data removed]",
      "text/plain": [
       "<Figure size 432x288 with 1 Axes>"
      ]
     },
     "metadata": {},
     "output_type": "display_data"
    }
   ],
   "source": [
    "generated_samples = generated_samples.detach()\n",
    "plt.plot(generated_samples[:, 0], generated_samples[:, 1], \".\")"
   ]
  },
  {
   "cell_type": "code",
   "execution_count": null,
   "id": "ce9f8abe-c6ef-4dda-a6bd-b2e535c90ad7",
   "metadata": {},
   "outputs": [],
   "source": []
  }
 ],
 "metadata": {
  "kernelspec": {
   "display_name": "Python 3 (Spyder)",
   "language": "python3",
   "name": "python3"
  },
  "language_info": {
   "codemirror_mode": {
    "name": "ipython",
    "version": 3
   },
   "file_extension": ".py",
   "mimetype": "text/x-python",
   "name": "python",
   "nbconvert_exporter": "python",
   "pygments_lexer": "ipython3",
   "version": "3.11.8"
  }
 },
 "nbformat": 4,
 "nbformat_minor": 5
}
